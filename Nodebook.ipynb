{
 "cells": [
  {
   "cell_type": "markdown",
   "metadata": {},
   "source": [
    "## Installing dependencies to get Node to work inside Jupyter"
   ]
  },
  {
   "cell_type": "code",
   "execution_count": 3,
   "metadata": {},
   "outputs": [
    {
     "name": "stdout",
     "output_type": "stream",
     "text": [
      "Requirement already satisfied: pixiedust in /anaconda3/lib/python3.6/site-packages\n",
      "Requirement already satisfied: mpld3 in /anaconda3/lib/python3.6/site-packages (from pixiedust)\n",
      "Requirement already satisfied: lxml in /anaconda3/lib/python3.6/site-packages (from pixiedust)\n",
      "Requirement already satisfied: markdown in /anaconda3/lib/python3.6/site-packages (from pixiedust)\n",
      "Requirement already satisfied: astunparse in /anaconda3/lib/python3.6/site-packages (from pixiedust)\n",
      "Requirement already satisfied: geojson in /anaconda3/lib/python3.6/site-packages (from pixiedust)\n",
      "Requirement already satisfied: wheel<1.0,>=0.23.0 in /anaconda3/lib/python3.6/site-packages (from astunparse->pixiedust)\n",
      "Requirement already satisfied: six<2.0,>=1.6.1 in /anaconda3/lib/python3.6/site-packages (from astunparse->pixiedust)\n",
      "\u001b[33mYou are using pip version 9.0.1, however version 9.0.3 is available.\n",
      "You should consider upgrading via the 'pip install --upgrade pip' command.\u001b[0m\n",
      "Requirement already satisfied: pixiedust_node in /anaconda3/lib/python3.6/site-packages\n",
      "Requirement already satisfied: ipython in /anaconda3/lib/python3.6/site-packages (from pixiedust_node)\n",
      "Requirement already satisfied: pixiedust in /anaconda3/lib/python3.6/site-packages (from pixiedust_node)\n",
      "Requirement already satisfied: pandas in /anaconda3/lib/python3.6/site-packages (from pixiedust_node)\n",
      "Requirement already satisfied: setuptools>=18.5 in /anaconda3/lib/python3.6/site-packages (from ipython->pixiedust_node)\n",
      "Requirement already satisfied: jedi>=0.10 in /anaconda3/lib/python3.6/site-packages (from ipython->pixiedust_node)\n",
      "Requirement already satisfied: decorator in /anaconda3/lib/python3.6/site-packages (from ipython->pixiedust_node)\n",
      "Requirement already satisfied: pickleshare in /anaconda3/lib/python3.6/site-packages (from ipython->pixiedust_node)\n",
      "Requirement already satisfied: simplegeneric>0.8 in /anaconda3/lib/python3.6/site-packages (from ipython->pixiedust_node)\n",
      "Requirement already satisfied: traitlets>=4.2 in /anaconda3/lib/python3.6/site-packages (from ipython->pixiedust_node)\n",
      "Requirement already satisfied: prompt_toolkit<2.0.0,>=1.0.4 in /anaconda3/lib/python3.6/site-packages (from ipython->pixiedust_node)\n",
      "Requirement already satisfied: pygments in /anaconda3/lib/python3.6/site-packages (from ipython->pixiedust_node)\n",
      "Requirement already satisfied: appnope in /anaconda3/lib/python3.6/site-packages (from ipython->pixiedust_node)\n",
      "Requirement already satisfied: pexpect in /anaconda3/lib/python3.6/site-packages (from ipython->pixiedust_node)\n",
      "Requirement already satisfied: markdown in /anaconda3/lib/python3.6/site-packages (from pixiedust->pixiedust_node)\n",
      "Requirement already satisfied: geojson in /anaconda3/lib/python3.6/site-packages (from pixiedust->pixiedust_node)\n",
      "Requirement already satisfied: mpld3 in /anaconda3/lib/python3.6/site-packages (from pixiedust->pixiedust_node)\n",
      "Requirement already satisfied: lxml in /anaconda3/lib/python3.6/site-packages (from pixiedust->pixiedust_node)\n",
      "Requirement already satisfied: astunparse in /anaconda3/lib/python3.6/site-packages (from pixiedust->pixiedust_node)\n",
      "Requirement already satisfied: python-dateutil>=2 in /anaconda3/lib/python3.6/site-packages (from pandas->pixiedust_node)\n",
      "Requirement already satisfied: pytz>=2011k in /anaconda3/lib/python3.6/site-packages (from pandas->pixiedust_node)\n",
      "Requirement already satisfied: numpy>=1.9.0 in /anaconda3/lib/python3.6/site-packages (from pandas->pixiedust_node)\n",
      "Requirement already satisfied: parso==0.1.* in /anaconda3/lib/python3.6/site-packages (from jedi>=0.10->ipython->pixiedust_node)\n",
      "Requirement already satisfied: ipython_genutils in /anaconda3/lib/python3.6/site-packages (from traitlets>=4.2->ipython->pixiedust_node)\n",
      "Requirement already satisfied: six in /anaconda3/lib/python3.6/site-packages (from traitlets>=4.2->ipython->pixiedust_node)\n",
      "Requirement already satisfied: wcwidth in /anaconda3/lib/python3.6/site-packages (from prompt_toolkit<2.0.0,>=1.0.4->ipython->pixiedust_node)\n",
      "Requirement already satisfied: wheel<1.0,>=0.23.0 in /anaconda3/lib/python3.6/site-packages (from astunparse->pixiedust->pixiedust_node)\n",
      "\u001b[33mYou are using pip version 9.0.1, however version 9.0.3 is available.\n",
      "You should consider upgrading via the 'pip install --upgrade pip' command.\u001b[0m\n"
     ]
    }
   ],
   "source": [
    "!pip install pixiedust\n",
    "!pip install pixiedust_node"
   ]
  },
  {
   "cell_type": "code",
   "execution_count": 4,
   "metadata": {},
   "outputs": [
    {
     "name": "stdout",
     "output_type": "stream",
     "text": [
      "Pixiedust database opened successfully\n"
     ]
    },
    {
     "data": {
      "text/html": [
       "\n",
       "        <div style=\"margin:10px\">\n",
       "            <a href=\"https://github.com/ibm-watson-data-lab/pixiedust\" target=\"_new\">\n",
       "                <img src=\"https://github.com/ibm-watson-data-lab/pixiedust/raw/master/docs/_static/pd_icon32.png\" style=\"float:left;margin-right:10px\"/>\n",
       "            </a>\n",
       "            <span>Pixiedust version 1.1.9</span>\n",
       "        </div>\n",
       "        "
      ],
      "text/plain": [
       "<IPython.core.display.HTML object>"
      ]
     },
     "metadata": {},
     "output_type": "display_data"
    },
    {
     "data": {
      "text/html": [
       "\n",
       "            <div style=\"margin:10px\"> \n",
       "            <a href=\"https://github.com/ibm-cds-labs/pixiedust_node\" target=\"_new\"> \n",
       "            <img src=\"https://github.com/ibm-cds-labs/pixiedust_node/raw/master/docs/_images/pdn_icon32.png\" style=\"float:left;margin-right:10px\"/> \n",
       "            </a> \n",
       "            <span>Pixiedust Node.js</span> \n",
       "            </div> \n"
      ],
      "text/plain": [
       "<IPython.core.display.HTML object>"
      ]
     },
     "metadata": {},
     "output_type": "display_data"
    },
    {
     "name": "stdout",
     "output_type": "stream",
     "text": [
      "pixiedust_node 0.2.5 started. Cells starting '%%node' may contain Node.js code.\n"
     ]
    }
   ],
   "source": [
    "import pixiedust_node"
   ]
  },
  {
   "cell_type": "markdown",
   "metadata": {},
   "source": [
    "## Testing Node.js code"
   ]
  },
  {
   "cell_type": "code",
   "execution_count": 5,
   "metadata": {},
   "outputs": [
    {
     "name": "stdout",
     "output_type": "stream",
     "text": [
      "\"2018-03-31T19:03:11.009Z\"\n"
     ]
    }
   ],
   "source": [
    "%%node\n",
    "var date = new Date();\n",
    "print(date);"
   ]
  },
  {
   "cell_type": "code",
   "execution_count": 6,
   "metadata": {},
   "outputs": [
    {
     "name": "stdout",
     "output_type": "stream",
     "text": [
      "{\"a\": 1, \"b\": \"two\", \"c\": true}\n"
     ]
    }
   ],
   "source": [
    "%%node\n",
    "var x = { a:1, b:'two', c: true };\n",
    "print(x);"
   ]
  },
  {
   "cell_type": "markdown",
   "metadata": {},
   "source": [
    "## Displaying data with Node.js"
   ]
  },
  {
   "cell_type": "code",
   "execution_count": 7,
   "metadata": {
    "pixiedust": {
     "displayParams": {
      "handlerId": "downloadFile",
      "keyFields": "cos,i,sin,tan,x",
      "legend": "false",
      "logx": "false",
      "logy": "false",
      "mpld3": "true",
      "title": "blah"
     }
    }
   },
   "outputs": [
    {
     "data": {
      "text/html": [
       "<style type=\"text/css\">.pd_warning{display:none;}</style><div class=\"pd_warning\"><em>Hey, there's something awesome here! To see it, open this notebook outside GitHub, in a viewer like Jupyter</em></div>"
      ],
      "text/plain": [
       "<IPython.core.display.HTML object>"
      ]
     },
     "metadata": {},
     "output_type": "display_data"
    }
   ],
   "source": [
    "%%node\n",
    "var data = [];\n",
    "for (var i = 0; i < 1000; i++) {\n",
    "    var x = 2*Math.PI * i/ 360;\n",
    "    var obj = {\n",
    "      x: x,\n",
    "      i: i,\n",
    "      sin: Math.sin(x),\n",
    "      cos: Math.cos(x),\n",
    "      tan: Math.tan(x)\n",
    "    };\n",
    "    data.push(obj);\n",
    "}\n",
    "\n",
    "display(data);"
   ]
  },
  {
   "cell_type": "code",
   "execution_count": 1,
   "metadata": {},
   "outputs": [
    {
     "name": "stdout",
     "output_type": "stream",
     "text": [
      "hello world\n"
     ]
    },
    {
     "data": {
      "text/plain": [
       "undefined"
      ]
     },
     "execution_count": 1,
     "metadata": {},
     "output_type": "execute_result"
    }
   ],
   "source": [
    "console.log('hello world')"
   ]
  },
  {
   "cell_type": "code",
   "execution_count": 1,
   "metadata": {},
   "outputs": [
    {
     "name": "stdout",
     "output_type": "stream",
     "text": [
      "{\n",
      "  \"foo\": \"bar\",\n",
      "  \"bar\": \"baz\",\n",
      "  \"baz\": {\n",
      "    \"haha\": 42\n",
      "  }\n",
      "}\n"
     ]
    },
    {
     "data": {
      "text/plain": [
       "undefined"
      ]
     },
     "execution_count": 1,
     "metadata": {},
     "output_type": "execute_result"
    }
   ],
   "source": [
    "const blah2 = {\n",
    "    foo: 'bar',\n",
    "    bar: 'baz',\n",
    "    baz: {\n",
    "        haha: 42\n",
    "    }\n",
    "}\n",
    "\n",
    "console.log(JSON.stringify(blah2, null, 2))"
   ]
  },
  {
   "cell_type": "code",
   "execution_count": null,
   "metadata": {},
   "outputs": [],
   "source": []
  }
 ],
 "metadata": {
  "kernelspec": {
   "display_name": "Python 3",
   "language": "python",
   "name": "python3"
  }
 },
 "nbformat": 4,
 "nbformat_minor": 2
}
