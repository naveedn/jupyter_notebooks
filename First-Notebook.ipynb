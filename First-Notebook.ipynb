{
 "cells": [
  {
   "cell_type": "markdown",
   "metadata": {},
   "source": [
    "# Hello World"
   ]
  },
  {
   "cell_type": "code",
   "execution_count": 1,
   "metadata": {
    "scrolled": true
   },
   "outputs": [
    {
     "name": "stdout",
     "output_type": "stream",
     "text": [
      "hello world\n"
     ]
    }
   ],
   "source": [
    "print('hello world')"
   ]
  },
  {
   "cell_type": "markdown",
   "metadata": {},
   "source": [
    "# FizzBuzz"
   ]
  },
  {
   "cell_type": "code",
   "execution_count": 4,
   "metadata": {},
   "outputs": [
    {
     "name": "stdout",
     "output_type": "stream",
     "text": [
      "3 fizz\n",
      "5 buzz\n",
      "6 fizz\n",
      "9 fizz\n",
      "10 buzz\n",
      "12 fizz\n",
      "15 fizzbuzz\n",
      "18 fizz\n",
      "20 buzz\n",
      "21 fizz\n",
      "24 fizz\n",
      "25 buzz\n",
      "27 fizz\n",
      "30 fizzbuzz\n",
      "33 fizz\n",
      "35 buzz\n",
      "36 fizz\n",
      "39 fizz\n",
      "40 buzz\n",
      "42 fizz\n",
      "45 fizzbuzz\n"
     ]
    }
   ],
   "source": [
    "for i in range(1,46):\n",
    "    if i % 3 == 0 and i % 5 == 0:\n",
    "        print('%d fizzbuzz' % i)\n",
    "    elif i % 3 == 0:\n",
    "        print('%d fizz' % i)\n",
    "    elif i % 5 == 0:\n",
    "        print('%d buzz' % i)\n",
    "    else:\n",
    "        pass"
   ]
  },
  {
   "cell_type": "code",
   "execution_count": 3,
   "metadata": {},
   "outputs": [],
   "source": [
    "# all the imports\n",
    "import os\n",
    "import sqlite3\n",
    "from flask import Flask, request, session, g, redirect, url_for, \\\n",
    "    abort, render_template, flash"
   ]
  },
  {
   "cell_type": "code",
   "execution_count": null,
   "metadata": {},
   "outputs": [],
   "source": []
  }
 ],
 "metadata": {
  "kernelspec": {
   "display_name": "Python 3",
   "language": "python",
   "name": "python3"
  },
  "language_info": {
   "codemirror_mode": {
    "name": "ipython",
    "version": 3
   },
   "file_extension": ".py",
   "mimetype": "text/x-python",
   "name": "python",
   "nbconvert_exporter": "python",
   "pygments_lexer": "ipython3",
   "version": "3.6.4"
  }
 },
 "nbformat": 4,
 "nbformat_minor": 2
}
